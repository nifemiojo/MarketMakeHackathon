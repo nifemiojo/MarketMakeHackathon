{
 "metadata": {
  "language_info": {
   "codemirror_mode": {
    "name": "ipython",
    "version": 3
   },
   "file_extension": ".py",
   "mimetype": "text/x-python",
   "name": "python",
   "nbconvert_exporter": "python",
   "pygments_lexer": "ipython3",
   "version": "3.7.5-final"
  },
  "orig_nbformat": 2,
  "kernelspec": {
   "name": "python37564bitdbf1d87273514905bba8511911dd5bb4",
   "display_name": "Python 3.7.5 64-bit",
   "language": "python"
  }
 },
 "nbformat": 4,
 "nbformat_minor": 2,
 "cells": [
  {
   "cell_type": "code",
   "execution_count": 1,
   "metadata": {},
   "outputs": [
    {
     "output_type": "stream",
     "name": "stdout",
     "text": [
      "AAVE/USD ['AAVE', 'USD']\n"
     ]
    }
   ],
   "source": [
    "pair = \"AAVE/USD\"\n",
    "splits = pair.split(\"/\")\n",
    "\n",
    "print(pair, splits[0])"
   ]
  }
 ]
}